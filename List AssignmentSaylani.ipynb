{
 "cells": [
  {
   "cell_type": "markdown",
   "id": "4a8228f7-f048-45f1-9dc2-eecf4b2e6724",
   "metadata": {},
   "source": [
    "1. Write a program that accepts a list from user and print the alternate element of list. "
   ]
  },
  {
   "cell_type": "code",
   "execution_count": 1,
   "id": "f7fe445f-d6db-48f6-860b-fd91477eb946",
   "metadata": {},
   "outputs": [
    {
     "name": "stdout",
     "output_type": "stream",
     "text": [
      "Alternate elements of the list are: ['']\n"
     ]
    }
   ],
   "source": [
    "def get_alternate_elements(lst):\n",
    "    return lst[::2]\n",
    "input_list = input(\"Enter a list of elements separated by commas: \").split(',')\n",
    "input_list = [item.strip() for item in input_list]\n",
    "alternate_elements = get_alternate_elements(input_list)\n",
    "print(\"Alternate elements of the list are:\", alternate_elements)"
   ]
  },
  {
   "cell_type": "markdown",
   "id": "186bfe68-bcb0-4a10-8795-3f6be82c4ffb",
   "metadata": {},
   "source": [
    "2. Write a program that accepts a list from user. Your program should reverse the content of list and\n",
    "display it. Do not use reverse() method. "
   ]
  },
  {
   "cell_type": "code",
   "execution_count": 2,
   "id": "8bf33a4d-f956-44f9-a911-ce9b413fd8df",
   "metadata": {},
   "outputs": [
    {
     "name": "stdout",
     "output_type": "stream",
     "text": [
      "Reversed list: ['']\n"
     ]
    }
   ],
   "source": [
    "def reverse_list(lst):\n",
    "    return lst[::-1]\n",
    "input_list = input(\"Enter a list of elements separated by commas: \").split(',')\n",
    "input_list = [item.strip() for item in input_list]\n",
    "reversed_list = reverse_list(input_list)\n",
    "print(\"Reversed list:\", reversed_list)"
   ]
  },
  {
   "cell_type": "markdown",
   "id": "70fe5b85-9872-4d5a-988b-8e1ff8eba8c0",
   "metadata": {},
   "source": [
    " 3. Find and display the largest number of a list without using built-in function max(). Your program\n",
    "should ask the user to input values in list from keyboard. "
   ]
  },
  {
   "cell_type": "code",
   "execution_count": 10,
   "id": "2bc84b23-0606-4a73-b93d-95a2aa5b1a89",
   "metadata": {},
   "outputs": [
    {
     "name": "stdout",
     "output_type": "stream",
     "text": [
      "Enter a list of numbers separated by commas:  1,2,34,5,54,244,222,333,44466,43242\n"
     ]
    },
    {
     "name": "stdout",
     "output_type": "stream",
     "text": [
      "The largest number in the list is: 44466\n"
     ]
    }
   ],
   "source": [
    "def find_largest_number(lst):\n",
    "    if len(lst) == 0:\n",
    "        return None \n",
    "    largest = lst[0]\n",
    "    \n",
    "    for number in lst:\n",
    "        if number > largest:\n",
    "            largest = number\n",
    "            \n",
    "    return largest\n",
    "input_str = input(\"Enter a list of numbers separated by commas: \")\n",
    "input_list = [int(item.strip()) for item in input_str.split(',')]\n",
    "largest_number = find_largest_number(input_list)\n",
    "if largest_number is not None:\n",
    "    print(\"The largest number in the list is:\", largest_number)\n",
    "else:\n",
    "    print(\"The list is empty.\")"
   ]
  },
  {
   "cell_type": "markdown",
   "id": "bc9fbed6-a1e7-47c1-8e57-9657056015f4",
   "metadata": {},
   "source": [
    "4. Write a program that rotates the element of a list so that the element at the first index moves to the\n",
    "second index, the element in the second index moves to the third index, etc., and the element in the last\n",
    "index moves to the first index. "
   ]
  },
  {
   "cell_type": "code",
   "execution_count": 3,
   "id": "5fbb0a05-b08a-4533-9871-af0956efde75",
   "metadata": {},
   "outputs": [
    {
     "name": "stdout",
     "output_type": "stream",
     "text": [
      "Original List\n",
      "['danish', 'shakoor', 'gafoor', 'sattar']\n",
      "Rotated List\n",
      "['sattar', 'danish', 'shakoor', 'gafoor']\n"
     ]
    }
   ],
   "source": [
    "l = [\"danish\",\"shakoor\",\"gafoor\",\"sattar\"]\n",
    "print(\"Original List\")\n",
    "print(l)\n",
    "\n",
    "l = l[-1:] + l[:-1]\n",
    "\n",
    "print(\"Rotated List\")\n",
    "print(l)"
   ]
  },
  {
   "cell_type": "code",
   "execution_count": 12,
   "id": "80b43ff8-5baf-4427-92ce-fdf3770b9903",
   "metadata": {},
   "outputs": [
    {
     "name": "stdout",
     "output_type": "stream",
     "text": [
      "['Google', 'Facebook', 'Instagram', 'Spotify', 'Dropbox', 'Netflix', 'Quora', 'Reddit', 'Uber', 'Pinterest']\n",
      "Rotated Companies\n",
      "['Pinterest', 'Google', 'Facebook', 'Instagram', 'Spotify', 'Dropbox', 'Netflix', 'Quora', 'Reddit', 'Uber']\n"
     ]
    }
   ],
   "source": [
    "companies = [\n",
    "    \"Google\",\n",
    "    \"Facebook\",\n",
    "    \"Instagram\",\n",
    "    \"Spotify\",\n",
    "    \"Dropbox\",\n",
    "    \"Netflix\",\n",
    "    \"Quora\",\n",
    "    \"Reddit\",\n",
    "    \"Uber\",\n",
    "    \"Pinterest\"\n",
    "]\n",
    "print(companies)\n",
    "companies=companies[-1:] + companies[:-1]\n",
    "print(\"Rotated Companies\")\n",
    "print(companies)"
   ]
  },
  {
   "cell_type": "markdown",
   "id": "edd8631c-1af5-4300-b87c-b04f87bca5b8",
   "metadata": {},
   "source": [
    "5. Write a program that input a string and ask user to delete a given word from a string. "
   ]
  },
  {
   "cell_type": "code",
   "execution_count": 5,
   "id": "725e1634-97ea-4b39-99e7-327ca6f58625",
   "metadata": {},
   "outputs": [
    {
     "name": "stdout",
     "output_type": "stream",
     "text": [
      "Enter the String: \n",
      "Enter a Word to Delete: \n",
      "\n",
      "\n"
     ]
    }
   ],
   "source": [
    "print(\"Enter the String: \")\n",
    "text = input()\n",
    "print(\"Enter a Word to Delete: \")\n",
    "word = input()\n",
    "text = text.replace(word, \"\")\n",
    "print()\n",
    "print(text)"
   ]
  },
  {
   "cell_type": "markdown",
   "id": "50b14b81-e362-4b8c-8780-d92d3dde79c0",
   "metadata": {},
   "source": [
    "6. Write a program that reads a string from the user containing a date in the form mm/dd/yyyy. It\n",
    "should print the date in the form March 12, 2021."
   ]
  },
  {
   "cell_type": "code",
   "execution_count": 15,
   "id": "9fcd07db-2497-4142-9b05-3f53d3a4ea7e",
   "metadata": {},
   "outputs": [
    {
     "name": "stdout",
     "output_type": "stream",
     "text": [
      " March 12,2021\n"
     ]
    },
    {
     "name": "stdout",
     "output_type": "stream",
     "text": [
      "date is: March 12,2021\n"
     ]
    }
   ],
   "source": [
    "from datetime import date\n",
    "date=input(\"\")\n",
    "print(\"date is:\",date)"
   ]
  },
  {
   "cell_type": "markdown",
   "id": "ee062cc5-609d-487f-bc6c-23d4f85e55e8",
   "metadata": {},
   "source": [
    "7. Write a program with a function that accepts a string from keyboard and create a new string after\n",
    "converting character of each word capitalized. For instance, if the sentence is \"stop and smell the roses.\"\n",
    "the output should be \"Stop And Smell The Roses\""
   ]
  },
  {
   "cell_type": "code",
   "execution_count": 6,
   "id": "85ad87bc-c5b9-48f2-84d8-104792de2976",
   "metadata": {},
   "outputs": [
    {
     "name": "stdout",
     "output_type": "stream",
     "text": [
      "\n"
     ]
    }
   ],
   "source": [
    "string=input(\"\")\n",
    "print(string.title())"
   ]
  },
  {
   "cell_type": "markdown",
   "id": "341031e1-b9b5-4fb3-a5e8-8f20b25a5c4d",
   "metadata": {},
   "source": [
    "8. Find the sum of each row of matrix of size m x n.63 \n",
    "3 "
   ]
  },
  {
   "cell_type": "code",
   "execution_count": 19,
   "id": "958b858f-6ee3-4ed2-8254-e68c2a630e6e",
   "metadata": {},
   "outputs": [
    {
     "name": "stdout",
     "output_type": "stream",
     "text": [
      "Sum of row 1 is 32\n",
      "Sum of row 2 is 31\n",
      "Sum of row 3 is 63\n"
     ]
    }
   ],
   "source": [
    "matrix = [\n",
    "    [2, 11, 7, 12],\n",
    "    [5, 2, 9, 15],\n",
    "    [8, 3, 10, 42]\n",
    "]\n",
    "for i, row in enumerate(matrix):\n",
    "    row_sum = sum(row)\n",
    "    print(f\"Sum of row {i+1} is {row_sum}\")"
   ]
  },
  {
   "cell_type": "markdown",
   "id": "c3b15dbe-dbf2-432e-9119-d6dd0e61f50f",
   "metadata": {},
   "source": [
    "9. Write a program to add two matrices of size n x m. "
   ]
  },
  {
   "cell_type": "code",
   "execution_count": 22,
   "id": "d7a4b63e-19ab-4138-b031-ecb853e32d24",
   "metadata": {},
   "outputs": [
    {
     "name": "stdout",
     "output_type": "stream",
     "text": [
      "[6, 14, 11, 14]\n",
      "[11, 7, 17, 24]\n",
      "[14, 8, 13, 46]\n"
     ]
    }
   ],
   "source": [
    "matrix_A = [\n",
    "    [2, 11, 7, 12],\n",
    "    [5, 2, 9, 15],\n",
    "    [8, 3, 10, 42]]\n",
    "matrix_B= [\n",
    "    [4, 3, 4, 2],\n",
    "    [6, 5, 8, 9],\n",
    "    [6, 5, 3, 4]]\n",
    "result = [[0 for _ in range(len(matrix_A[0]))] for _ in range(len(matrix_A))]\n",
    "for i in range(len(matrix_A)):\n",
    "    for j in range(len(matrix_A[0])):\n",
    "        result[i][j] = matrix_A[i][j] + matrix_B[i][j]\n",
    "for row in result:\n",
    "    print(row)"
   ]
  },
  {
   "cell_type": "markdown",
   "id": "c76a063b-b6a0-43df-aca9-97d3d87fdc22",
   "metadata": {},
   "source": [
    "10. Write a program to multiply two matrices "
   ]
  },
  {
   "cell_type": "code",
   "execution_count": 23,
   "id": "038edbde-ce06-4e55-a081-ee1329003fa4",
   "metadata": {},
   "outputs": [
    {
     "name": "stdout",
     "output_type": "stream",
     "text": [
      "[116, 96, 117, 131]\n",
      "[86, 70, 63, 64]\n",
      "[110, 89, 86, 83]\n"
     ]
    }
   ],
   "source": [
    "matrix1 = [\n",
    "    [2, 11, 7, 12],\n",
    "    [5, 2, 9, 15],\n",
    "    [8, 3, 10, 42]]\n",
    "matrix2= [\n",
    "    [4, 3, 4, 2],\n",
    "    [6, 5, 8, 9],\n",
    "    [6, 5, 3, 4]]\n",
    "result = [[0 for _ in range(len(matrix2[0]))] for _ in range(len(matrix1))]\n",
    "for i in range(len(matrix1)):\n",
    "    for j in range(len(matrix2[0])):\n",
    "        for k in range(len(matrix2)):\n",
    "            result[i][j] += matrix1[i][k] * matrix2[k][j]\n",
    "for row in result:\n",
    "    print(row)"
   ]
  }
 ],
 "metadata": {
  "kernelspec": {
   "display_name": "base",
   "language": "python",
   "name": "python3"
  },
  "language_info": {
   "codemirror_mode": {
    "name": "ipython",
    "version": 3
   },
   "file_extension": ".py",
   "mimetype": "text/x-python",
   "name": "python",
   "nbconvert_exporter": "python",
   "pygments_lexer": "ipython3",
   "version": "3.12.4"
  }
 },
 "nbformat": 4,
 "nbformat_minor": 5
}
