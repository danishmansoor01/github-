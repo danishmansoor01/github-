{
 "cells": [
  {
   "cell_type": "markdown",
   "id": "e6f7cfec-e631-4049-be2c-9c2dd6046bab",
   "metadata": {},
   "source": [
    "1. Write a Python program to print the numbers from 1 to 10 using a for loop."
   ]
  },
  {
   "cell_type": "code",
   "execution_count": 2,
   "id": "e6b419e4-7ac4-4b7e-ad7f-093a8b4563b6",
   "metadata": {},
   "outputs": [
    {
     "name": "stdout",
     "output_type": "stream",
     "text": [
      "1\n",
      "2\n",
      "3\n",
      "4\n",
      "5\n",
      "6\n",
      "7\n",
      "8\n",
      "9\n",
      "10\n"
     ]
    }
   ],
   "source": [
    "for i in range(1,11):\n",
    "    print(i)"
   ]
  },
  {
   "cell_type": "markdown",
   "id": "0b56fea7-0df4-40c2-89f1-aec04d7f51f4",
   "metadata": {},
   "source": [
    "2. Write a Python program to print the numbers from 20 to 1 using a while loop."
   ]
  },
  {
   "cell_type": "code",
   "execution_count": 6,
   "id": "38e2fb71-ce72-4d9d-b413-3a2ca22f0f38",
   "metadata": {},
   "outputs": [
    {
     "name": "stdout",
     "output_type": "stream",
     "text": [
      "20\n",
      "19\n",
      "18\n",
      "17\n",
      "16\n",
      "15\n",
      "14\n",
      "13\n",
      "12\n",
      "11\n",
      "10\n",
      "9\n",
      "8\n",
      "7\n",
      "6\n",
      "5\n",
      "4\n",
      "3\n",
      "2\n",
      "1\n"
     ]
    }
   ],
   "source": [
    "number = 20\n",
    "while number >= 1:\n",
    "    print(number)\n",
    "    number -= 1"
   ]
  },
  {
   "cell_type": "markdown",
   "id": "2285b38a-0932-44f7-ada4-e2b08f3d2d2f",
   "metadata": {},
   "source": [
    "3. Write a program to print even numbers from 1 to 10. "
   ]
  },
  {
   "cell_type": "code",
   "execution_count": 11,
   "id": "b9305d5b-9c37-442f-b7de-093c664a6c92",
   "metadata": {},
   "outputs": [
    {
     "name": "stdout",
     "output_type": "stream",
     "text": [
      "2\n",
      "4\n",
      "6\n",
      "8\n",
      "10\n"
     ]
    }
   ],
   "source": [
    "for i in range(2,11,2):\n",
    "    print(i)"
   ]
  },
  {
   "cell_type": "markdown",
   "id": "220508b5-9092-46b0-b54e-7b9a050fb31f",
   "metadata": {},
   "source": [
    "4. Write a program that prompts the user to enter a number n and prints all the\n",
    "numbers from 1 to n. "
   ]
  },
  {
   "cell_type": "code",
   "execution_count": 12,
   "id": "72b574bf-1241-47b6-862b-3e2d6beb1664",
   "metadata": {},
   "outputs": [
    {
     "name": "stdin",
     "output_type": "stream",
     "text": [
      "Enter a number:  6\n"
     ]
    },
    {
     "name": "stdout",
     "output_type": "stream",
     "text": [
      "1\n",
      "2\n",
      "3\n",
      "4\n",
      "5\n",
      "6\n"
     ]
    }
   ],
   "source": [
    "n = int(input(\"Enter a number: \"))\n",
    "for i in range(1, n + 1):\n",
    "    print(i)"
   ]
  },
  {
   "cell_type": "markdown",
   "id": "70281dc9-aea3-4613-a748-56f81d65a0d2",
   "metadata": {},
   "source": [
    "5. Write a program that prompts the user to enter a number n, and then prints all the\n",
    "odd numbers between 1 and n. "
   ]
  },
  {
   "cell_type": "code",
   "execution_count": 16,
   "id": "39b61ac1-bb71-4875-905a-1195a5c4a0da",
   "metadata": {},
   "outputs": [
    {
     "name": "stdin",
     "output_type": "stream",
     "text": [
      "Enter a number:  9\n"
     ]
    },
    {
     "name": "stdout",
     "output_type": "stream",
     "text": [
      "1\n",
      "3\n",
      "5\n",
      "7\n",
      "9\n"
     ]
    }
   ],
   "source": [
    "n = int(input(\"Enter a number: \"))\n",
    "for i in range(1, n + 1):\n",
    "    if i % 2 != 0:\n",
    "        print(i)"
   ]
  },
  {
   "cell_type": "markdown",
   "id": "96242743-7fe8-44eb-ad31-97730de95dca",
   "metadata": {},
   "source": [
    "6. Write a program that prints 'Happy Birthday!' five times on screen. "
   ]
  },
  {
   "cell_type": "code",
   "execution_count": 22,
   "id": "8d15f043-a1b7-4844-ac5d-a88bc74bf1b1",
   "metadata": {},
   "outputs": [
    {
     "name": "stdout",
     "output_type": "stream",
     "text": [
      "Happy Birthday!\n",
      "Happy Birthday!\n",
      "Happy Birthday!\n",
      "Happy Birthday!\n",
      "Happy Birthday!\n"
     ]
    }
   ],
   "source": [
    "for i in range(5):\n",
    "    print(\"Happy Birthday!\")"
   ]
  },
  {
   "cell_type": "markdown",
   "id": "b5cc8b21-730d-473e-aa17-84939a19d32e",
   "metadata": {},
   "source": [
    "7. Write a program that takes a number n as input from the user and generates the first\n",
    "n terms of the series formed by squaring the natural numbers.\n",
    "Sample output\n",
    "Enter a number: 6\n",
    "The first 6 terms of the series are:\n",
    "1 4 9 16 25 36 "
   ]
  },
  {
   "cell_type": "code",
   "execution_count": 1,
   "id": "5b642c9f-2a3f-4e2c-a3d3-f7939064f70a",
   "metadata": {},
   "outputs": [
    {
     "name": "stdin",
     "output_type": "stream",
     "text": [
      "Enter a number:  5\n"
     ]
    },
    {
     "name": "stdout",
     "output_type": "stream",
     "text": [
      "The first 5 terms of the series are:  1 4 9 16 25\n"
     ]
    }
   ],
   "source": [
    "n = int(input(\"Enter a number: \"))\n",
    "series = [i**2 for i in range(1, n+1)]\n",
    "print(f\"The first {n} terms of the series are: \", ' '.join(map(str, series)))"
   ]
  },
  {
   "cell_type": "markdown",
   "id": "db393f4c-8528-47c2-aef1-c54b77bd3eb3",
   "metadata": {},
   "source": [
    "8. Write a program that prompts the user to input a number and prints its multiplication\n",
    "table. "
   ]
  },
  {
   "cell_type": "code",
   "execution_count": 2,
   "id": "b77af358-7d8c-42ec-93a3-4e918428d5b6",
   "metadata": {},
   "outputs": [
    {
     "name": "stdin",
     "output_type": "stream",
     "text": [
      "Enter a number:  6\n"
     ]
    },
    {
     "name": "stdout",
     "output_type": "stream",
     "text": [
      "Multiplication Table of 6:\n",
      "6 x 1 = 6\n",
      "6 x 2 = 12\n",
      "6 x 3 = 18\n",
      "6 x 4 = 24\n",
      "6 x 5 = 30\n",
      "6 x 6 = 36\n",
      "6 x 7 = 42\n",
      "6 x 8 = 48\n",
      "6 x 9 = 54\n",
      "6 x 10 = 60\n"
     ]
    }
   ],
   "source": [
    "number = int(input(\"Enter a number: \"))\n",
    "print(f\"Multiplication Table of {number}:\")\n",
    "\n",
    "for i in range(1, 11):\n",
    "    print(f\"{number} x {i} = {number * i}\")"
   ]
  },
  {
   "cell_type": "markdown",
   "id": "b79cc6f0-3a46-4b3b-bb3f-c4150ba0ca6f",
   "metadata": {},
   "source": [
    "9. Write a Python program to print the first 8 terms of an arithmetic progression starting\n",
    "with 3 and having a common difference of 4.\n",
    "The program should output the following sequence:\n",
    "3 7 11 15 19 23 27 31 "
   ]
  },
  {
   "cell_type": "code",
   "execution_count": 3,
   "id": "02a8997f-de13-4246-b8d3-c699821fb6b9",
   "metadata": {},
   "outputs": [
    {
     "name": "stdout",
     "output_type": "stream",
     "text": [
      "3 7 11 15 19 23 27 31 "
     ]
    }
   ],
   "source": [
    "first_term = 3\n",
    "common_difference = 4\n",
    "n_terms = 8\n",
    "\n",
    "for i in range(n_terms):\n",
    "    term = first_term + i * common_difference\n",
    "    print(term, end=' ')"
   ]
  },
  {
   "cell_type": "markdown",
   "id": "a2a30302-22e6-421f-bd01-d867590af48e",
   "metadata": {},
   "source": [
    "10. Write a Python program to print the first 6 terms of a geometric sequence starting\n",
    "with 2 and having a common ratio of 3.\n",
    "The program should output the following sequence:\n",
    "2 6 18 54 162 486 "
   ]
  },
  {
   "cell_type": "code",
   "execution_count": 4,
   "id": "30d14868-eab1-417b-be17-29850602e1ba",
   "metadata": {},
   "outputs": [
    {
     "name": "stdout",
     "output_type": "stream",
     "text": [
      "2 6 18 54 162 486 "
     ]
    }
   ],
   "source": [
    "first_term = 2\n",
    "common_ratio = 3\n",
    "n_terms = 6\n",
    "for i in range(n_terms):\n",
    "    term = first_term * (common_ratio ** i)\n",
    "    print(term, end=' ')"
   ]
  },
  {
   "cell_type": "markdown",
   "id": "94c7b71a-3802-46c4-a0f0-23bf6d950da9",
   "metadata": {},
   "source": [
    "11. Write a program that asks the user for a positive integer value. The program should\n",
    "calculate the sum of all the integers from 1 up to the number entered. For example, if\n",
    "the user enters 20, the loop will find the sum of 1, 2, 3, 4, ... 20. "
   ]
  },
  {
   "cell_type": "code",
   "execution_count": 5,
   "id": "37e5aff5-437f-4361-b60c-b9276305f882",
   "metadata": {},
   "outputs": [
    {
     "name": "stdin",
     "output_type": "stream",
     "text": [
      "Enter a positive integer:  5\n"
     ]
    },
    {
     "name": "stdout",
     "output_type": "stream",
     "text": [
      "The sum of all integers from 1 to 5 is: 15\n"
     ]
    }
   ],
   "source": [
    "n = int(input(\"Enter a positive integer: \"))\n",
    "sum_of_integers = sum(range(1, n+1))\n",
    "print(f\"The sum of all integers from 1 to {n} is: {sum_of_integers}\")"
   ]
  },
  {
   "cell_type": "markdown",
   "id": "170f7243-c76c-4bfa-8b2a-11241d14d58c",
   "metadata": {},
   "source": [
    "12. write a program that takes a positive integer N as input and calculates the sum of\n",
    "the reciprocals of all numbers from 1 up to N. The program should display the final sum.\n",
    "Output of the program should be like:\n",
    "Enter a positive integer: 5\n",
    "The sum of reciprocals from 1 to 5 is: 2.28"
   ]
  },
  {
   "cell_type": "code",
   "execution_count": 6,
   "id": "c606934e-ff14-4a7d-9df1-bdb3f9481d85",
   "metadata": {},
   "outputs": [
    {
     "name": "stdin",
     "output_type": "stream",
     "text": [
      "Enter a positive integer:  4\n"
     ]
    },
    {
     "name": "stdout",
     "output_type": "stream",
     "text": [
      "The sum of reciprocals from 1 to 4 is: 2.08\n"
     ]
    }
   ],
   "source": [
    "N = int(input(\"Enter a positive integer: \"))\n",
    "sum_of_reciprocals = sum(1/i for i in range(1, N+1))\n",
    "print(f\"The sum of reciprocals from 1 to {N} is: {sum_of_reciprocals:.2f}\")"
   ]
  },
  {
   "cell_type": "markdown",
   "id": "1f4b21b8-4ae6-41ef-a820-d03ddbd74fe9",
   "metadata": {},
   "source": [
    "13. Write a program that prompts the user to enter a number and repeats this process 5\n",
    "times. The program should accumulate the numbers entered and then display the final\n",
    "running total.\n",
    "Sample Output:\n",
    "Enter a number: 10\n",
    "Enter a number: 15\n",
    "Enter a number: 35\n",
    "Enter a number: 40\n",
    "Enter a number: 50\n",
    "The final running total is: 150 "
   ]
  },
  {
   "cell_type": "code",
   "execution_count": 7,
   "id": "b6f6b627-fd84-4773-a015-56f6bc71177b",
   "metadata": {},
   "outputs": [
    {
     "name": "stdin",
     "output_type": "stream",
     "text": [
      "Enter a number:  4\n",
      "Enter a number:  5\n",
      "Enter a number:  5\n",
      "Enter a number:  6\n",
      "Enter a number:  7\n"
     ]
    },
    {
     "name": "stdout",
     "output_type": "stream",
     "text": [
      "The final running total is: 27\n"
     ]
    }
   ],
   "source": [
    "total = 0\n",
    "for i in range(5):\n",
    "    number = int(input(\"Enter a number: \"))\n",
    "    total += number\n",
    "print(f\"The final running total is: {total}\")"
   ]
  },
  {
   "cell_type": "markdown",
   "id": "a3d43922-90f9-4bdc-9a77-5af7a3e9c67d",
   "metadata": {},
   "source": [
    "14. Write a program that prompts the user to enter a positive integer and calculates its\n",
    "factorial. The factorial of a positive integer 'n' is denoted as 'n!' and is calculated by\n",
    "multiplying all the integers from 1 to 'n' together. For example, the factorial of 5\n",
    "(denoted as 5!) is calculated as 1 x 2 x 3 x 4 x 5.\n",
    "The program should display the factorial value if the input is a positive number, or\n",
    "display a message stating that the factorial does not exist for negative numbers.\n",
    "Additionally, for an input of zero, the program should output that the factorial of 0 is 1. "
   ]
  },
  {
   "cell_type": "code",
   "execution_count": 8,
   "id": "fbdeced2-4c8a-49ec-a1e4-75ba24567d96",
   "metadata": {},
   "outputs": [
    {
     "name": "stdin",
     "output_type": "stream",
     "text": [
      "Enter a positive integer:  4\n"
     ]
    },
    {
     "name": "stdout",
     "output_type": "stream",
     "text": [
      "The factorial of 4 is: 24\n"
     ]
    }
   ],
   "source": [
    "n = int(input(\"Enter a positive integer: \"))\n",
    "if n < 0:\n",
    "    print(\"Factorial does not exist for negative numbers.\")\n",
    "elif n == 0:\n",
    "    print(\"The factorial of 0 is 1.\")\n",
    "else:\n",
    "    factorial = 1\n",
    "    for i in range(1, n + 1):\n",
    "        factorial *= i\n",
    "    print(f\"The factorial of {n} is: {factorial}\")"
   ]
  },
  {
   "cell_type": "markdown",
   "id": "8b7fe29a-8e02-46bc-ab7e-5975f18f83ad",
   "metadata": {},
   "source": [
    "15. Write a Python program that prompts the user to enter a base number and an\n",
    "exponent, and then calculates the power of the base to the exponent. The program\n",
    "should not use the exponentiation operator (**) or the math.pow() function. The\n",
    "program should handle both positive and negative exponents. "
   ]
  },
  {
   "cell_type": "code",
   "execution_count": 9,
   "id": "97771b3b-1034-4807-b2a2-b92fcfac16df",
   "metadata": {},
   "outputs": [
    {
     "name": "stdin",
     "output_type": "stream",
     "text": [
      "Enter the base number:  4\n",
      "Enter the exponent:  5\n"
     ]
    },
    {
     "name": "stdout",
     "output_type": "stream",
     "text": [
      "4.0 raised to the power of 5 is: 1024.0\n"
     ]
    }
   ],
   "source": [
    "base = float(input(\"Enter the base number: \"))\n",
    "exponent = int(input(\"Enter the exponent: \"))\n",
    "result = 1\n",
    "if exponent > 0:\n",
    "    for i in range(exponent):\n",
    "        result *= base\n",
    "elif exponent < 0:\n",
    "    for i in range(-exponent):\n",
    "        result *= base\n",
    "    result = 1 / result\n",
    "else:\n",
    "    result = 1\n",
    "print(f\"{base} raised to the power of {exponent} is: {result}\")"
   ]
  },
  {
   "cell_type": "code",
   "execution_count": null,
   "id": "04eda3b9-c213-43d0-ac6c-bdb97412ea10",
   "metadata": {},
   "outputs": [],
   "source": []
  }
 ],
 "metadata": {
  "kernelspec": {
   "display_name": "Python 3 (ipykernel)",
   "language": "python",
   "name": "python3"
  },
  "language_info": {
   "codemirror_mode": {
    "name": "ipython",
    "version": 3
   },
   "file_extension": ".py",
   "mimetype": "text/x-python",
   "name": "python",
   "nbconvert_exporter": "python",
   "pygments_lexer": "ipython3",
   "version": "3.11.7"
  }
 },
 "nbformat": 4,
 "nbformat_minor": 5
}
