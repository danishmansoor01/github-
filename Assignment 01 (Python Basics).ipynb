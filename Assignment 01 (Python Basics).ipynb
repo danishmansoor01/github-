{
 "cells": [
  {
   "cell_type": "markdown",
   "metadata": {},
   "source": [
    "# Part -1 Python Basics (Variables)"
   ]
  },
  {
   "cell_type": "markdown",
   "metadata": {},
   "source": [
    "1. Print Your Name with your Father name and Date of birth using suitable escape sequence charactor"
   ]
  },
  {
   "cell_type": "code",
   "execution_count": 1,
   "metadata": {},
   "outputs": [
    {
     "name": "stdout",
     "output_type": "stream",
     "text": [
      "Name:Danish Ahmed\n",
      "Father Name:Mansoor Ahmed\n",
      "Date of birth:7/july/2002\n"
     ]
    }
   ],
   "source": [
    "name=(\"Name:Danish Ahmed\\nFather Name:Mansoor Ahmed\\nDate of birth:7/july/2002\")\n",
    "print(name)"
   ]
  },
  {
   "cell_type": "markdown",
   "metadata": {},
   "source": [
    "2. Write your small bio using variables and print it using print function"
   ]
  },
  {
   "cell_type": "code",
   "execution_count": 2,
   "metadata": {},
   "outputs": [
    {
     "name": "stdout",
     "output_type": "stream",
     "text": [
      "About me:I am danish mansoor 22 years old I live in Karachi City.\n",
      "Education:I did SSC from TCF School and Intermediate from SSAT Degree College.Currently I am studying Bachlor's of Science Information Technology from Sindh Madarsatul Islam University.\n",
      "Hobbies:My hobby is Reading books,watching movies and doing coding.\n"
     ]
    }
   ],
   "source": [
    "About_me=(\"About me:I am danish mansoor 22 years old I live in Karachi City.\")\n",
    "print(About_me)\n",
    "Education=(\"Education:I did SSC from TCF School and Intermediate from SSAT Degree College.Currently I am studying Bachlor's of Science Information Technology from Sindh Madarsatul Islam University.\")\n",
    "print(Education)\n",
    "Hobbies=(\"Hobbies:My hobby is Reading books,watching movies and doing coding.\")\n",
    "print(Hobbies)"
   ]
  },
  {
   "cell_type": "markdown",
   "metadata": {},
   "source": [
    "3. Write a program in which use all the operators we can use in Python"
   ]
  },
  {
   "cell_type": "code",
   "execution_count": 16,
   "metadata": {},
   "outputs": [
    {
     "name": "stdout",
     "output_type": "stream",
     "text": [
      "Arithmetic Operators\n",
      "Addition (a + b): 13\n",
      "Subtraction (a - b): 7\n",
      "Multiplication (a * b): 30\n",
      "Division (a / b): 3.3333333333333335\n",
      "Modulus (a % b): 1\n",
      "Exponentiation (a ** b): 1000\n",
      "Floor Division (a // b): 3\n",
      "\n",
      "Comparison Operators\n",
      "Equal (a == b): False\n",
      "Not Equal (a != b): True\n",
      "Greater than (a > b): True\n",
      "Less than (a < b): False\n",
      "Greater than or equal to (a >= b): True\n",
      "Less than or equal to (a <= b): False\n",
      "\n",
      "Logical Operators\n",
      "AND (x and y): False\n",
      "OR (x or y): True\n",
      "NOT (not x): False\n",
      "\n",
      "Assignment Operators\n",
      "c = a: 10\n",
      "c += b: 13\n",
      "c -= b: 10\n",
      "c *= b: 30\n",
      "c /= b: 10.0\n",
      "c %= b: 1.0\n",
      "c **= b: 1.0\n",
      "c //= b: 0.0\n",
      "\n"
     ]
    }
   ],
   "source": [
    "# Arithmetic Operators\n",
    "a = 10\n",
    "b = 3\n",
    "print(\"Arithmetic Operators\")\n",
    "print(\"Addition (a + b):\", a + b)\n",
    "print(\"Subtraction (a - b):\", a - b)\n",
    "print(\"Multiplication (a * b):\", a * b)\n",
    "print(\"Division (a / b):\", a / b)\n",
    "print(\"Modulus (a % b):\", a % b)\n",
    "print(\"Exponentiation (a ** b):\", a ** b)\n",
    "print(\"Floor Division (a // b):\", a // b)\n",
    "print()\n",
    "# Comparison Operators\n",
    "print(\"Comparison Operators\")\n",
    "print(\"Equal (a == b):\", a == b)\n",
    "print(\"Not Equal (a != b):\", a != b)\n",
    "print(\"Greater than (a > b):\", a > b)\n",
    "print(\"Less than (a < b):\", a < b)\n",
    "print(\"Greater than or equal to (a >= b):\", a >= b)\n",
    "print(\"Less than or equal to (a <= b):\", a <= b)\n",
    "print()\n",
    "# Logical Operators\n",
    "x = True\n",
    "y = False\n",
    "print(\"Logical Operators\")\n",
    "print(\"AND (x and y):\", x and y)\n",
    "print(\"OR (x or y):\", x or y)\n",
    "print(\"NOT (not x):\", not x)\n",
    "print()\n",
    "# Assignment Operators\n",
    "print(\"Assignment Operators\")\n",
    "c = a\n",
    "print(\"c = a:\", c)\n",
    "c += b\n",
    "print(\"c += b:\", c)\n",
    "c -= b\n",
    "print(\"c -= b:\", c)\n",
    "c *= b\n",
    "print(\"c *= b:\", c)\n",
    "c /= b\n",
    "print(\"c /= b:\", c)\n",
    "c %= b\n",
    "print(\"c %= b:\", c)\n",
    "c **= b\n",
    "print(\"c **= b:\", c)\n",
    "c //= b\n",
    "print(\"c //= b:\", c)\n",
    "print()"
   ]
  },
  {
   "cell_type": "markdown",
   "metadata": {},
   "source": [
    "4. Completes the following steps of small task:\n",
    "    - Mention Marks of English , Islamiat and Maths out of 100 in 3 different variables\n",
    "    - Mention Variable of Total Marks and assign 300 to it\n",
    "    - Calculate Percentage"
   ]
  },
  {
   "cell_type": "code",
   "execution_count": 24,
   "metadata": {},
   "outputs": [
    {
     "name": "stdout",
     "output_type": "stream",
     "text": [
      "77.33333333333333\n"
     ]
    }
   ],
   "source": [
    "Eng= 78\n",
    "Isl= 94\n",
    "Mat= 60\n",
    "T_Marks= 300\n",
    "Obt_Marks=Eng+Isl+Mat\n",
    "Percentage= (Obt_Marks/T_Marks)*100\n",
    "print(Percentage)"
   ]
  },
  {
   "cell_type": "markdown",
   "metadata": {},
   "source": [
    "# Part -2 Python Basics (Conditional Statements)"
   ]
  },
  {
   "cell_type": "markdown",
   "metadata": {},
   "source": [
    "1) A company decided to give bonus of 5% to employee if his/her year of service is more than 5 years.\n",
    "Ask user for their salary and year of service and print the net bonus amount."
   ]
  },
  {
   "cell_type": "code",
   "execution_count": 32,
   "metadata": {},
   "outputs": [
    {
     "name": "stdout",
     "output_type": "stream",
     "text": [
      "Salary: 100000\n",
      "Year of Service: 7\n"
     ]
    },
    {
     "name": "stdout",
     "output_type": "stream",
     "text": [
      "Your net amount bonus is: 5000.0\n"
     ]
    }
   ],
   "source": [
    "Salary=float(input(\"Salary:\"))\n",
    "service=float(input(\"Year of Service:\"))\n",
    "bonus=5/100\n",
    "if(service>5):\n",
    "    bonus=Salary*bonus\n",
    "    print(\"Your net amount bonus is:\",bonus)\n",
    "else:\n",
    "    print(\"You are not eligible for bonus\")"
   ]
  },
  {
   "cell_type": "markdown",
   "metadata": {},
   "source": [
    "\n",
    "2) Write a program to check whether a person is eligible for voting or not. (accept age from user) if age is greater than 17 eligible otherwise not eligible"
   ]
  },
  {
   "cell_type": "code",
   "execution_count": 38,
   "metadata": {},
   "outputs": [
    {
     "name": "stdout",
     "output_type": "stream",
     "text": [
      "Age: 19\n"
     ]
    },
    {
     "name": "stdout",
     "output_type": "stream",
     "text": [
      "You are eligible for voting\n"
     ]
    }
   ],
   "source": [
    "age=int(input(\"Age:\"))\n",
    "if(age>17):\n",
    "    print(\"You are eligible for voting\")\n",
    "else:\n",
    "    print(\"You are not eligible for voting\")"
   ]
  },
  {
   "cell_type": "markdown",
   "metadata": {},
   "source": [
    "\n",
    "3) Write a program to check whether a number entered by user is even or odd."
   ]
  },
  {
   "cell_type": "code",
   "execution_count": 46,
   "metadata": {},
   "outputs": [
    {
     "name": "stdout",
     "output_type": "stream",
     "text": [
      "Enter num: 7\n"
     ]
    },
    {
     "name": "stdout",
     "output_type": "stream",
     "text": [
      "number is odd\n"
     ]
    }
   ],
   "source": [
    "num=int(input(\"Enter num:\"))\n",
    "rem=num%2\n",
    "if(rem==0):\n",
    "    print(\"number is even\")\n",
    "else:\n",
    "    print(\"number is odd\")"
   ]
  },
  {
   "cell_type": "markdown",
   "metadata": {},
   "source": [
    "4) Write a program to check whether a number is divisible by 7 or not.\n",
    "Show Answer"
   ]
  },
  {
   "cell_type": "code",
   "execution_count": 50,
   "metadata": {},
   "outputs": [
    {
     "name": "stdout",
     "output_type": "stream",
     "text": [
      "Number: 15\n"
     ]
    },
    {
     "name": "stdout",
     "output_type": "stream",
     "text": [
      "Number is not divisible by 7\n"
     ]
    }
   ],
   "source": [
    "num=int(input(\"Number:\"))\n",
    "rem=num%7\n",
    "if(rem==0):\n",
    "    print(\"Number is divisible by 7\")\n",
    "else:\n",
    "    print(\"Number is not divisible by 7\")"
   ]
  },
  {
   "cell_type": "markdown",
   "metadata": {},
   "source": [
    "5) Write a program to display \n",
    "\"Hello\" if a number entered by user is a multiple of five , otherwise print \"Bye\"."
   ]
  },
  {
   "cell_type": "code",
   "execution_count": 56,
   "metadata": {},
   "outputs": [
    {
     "name": "stdout",
     "output_type": "stream",
     "text": [
      "Enter a number:  100\n"
     ]
    },
    {
     "name": "stdout",
     "output_type": "stream",
     "text": [
      "Hello\n"
     ]
    }
   ],
   "source": [
    "number = int(input(\"Enter a number: \"))\n",
    "if(number % 5 == 0):\n",
    "    print(\"Hello\")\n",
    "else:\n",
    "    print(\"Bye\")"
   ]
  },
  {
   "cell_type": "markdown",
   "metadata": {},
   "source": [
    "7) Write a program to display the last digit of a number."
   ]
  },
  {
   "cell_type": "code",
   "execution_count": 60,
   "metadata": {},
   "outputs": [
    {
     "name": "stdout",
     "output_type": "stream",
     "text": [
      "Enter a number:  112\n"
     ]
    },
    {
     "name": "stdout",
     "output_type": "stream",
     "text": [
      "The last digit of the number is: 2\n"
     ]
    }
   ],
   "source": [
    "number = int(input(\"Enter a number: \"))\n",
    "last_digit = number % 10\n",
    "print(\"The last digit of the number is:\", last_digit)"
   ]
  },
  {
   "cell_type": "markdown",
   "metadata": {},
   "source": [
    "9) Take values of length and breadth of a rectangle from user and print if it is square or rectangle."
   ]
  },
  {
   "cell_type": "code",
   "execution_count": 65,
   "metadata": {},
   "outputs": [
    {
     "name": "stdout",
     "output_type": "stream",
     "text": [
      "Length: 5\n",
      "Breadth: 5\n"
     ]
    },
    {
     "name": "stdout",
     "output_type": "stream",
     "text": [
      "It is a square.\n"
     ]
    }
   ],
   "source": [
    "length=float(input(\"Length:\"))\n",
    "breadth=float(input(\"Breadth:\"))\n",
    "if length == breadth:\n",
    "    print(\"It is a square.\")\n",
    "else:\n",
    "    print(\"It is a rectangle.\")"
   ]
  },
  {
   "cell_type": "markdown",
   "metadata": {},
   "source": [
    "10) Take two int values from user and print greatest among them."
   ]
  },
  {
   "cell_type": "code",
   "execution_count": 69,
   "metadata": {},
   "outputs": [
    {
     "name": "stdout",
     "output_type": "stream",
     "text": [
      "First Number:  5\n",
      "Second Number:  7\n"
     ]
    },
    {
     "name": "stdout",
     "output_type": "stream",
     "text": [
      "The greatest number is: 7\n"
     ]
    }
   ],
   "source": [
    "first_number = int(input(\"First Number: \"))\n",
    "second_number = int(input(\"Second Number: \"))\n",
    "if(first_number > second_number):\n",
    "    print(\"The greatest number is:\", first_number)\n",
    "elif(second_number > first_number):\n",
    "    print(\"The greatest number is:\", second_number)\n",
    "else:\n",
    "    print(\"Both numbers are equal.\")"
   ]
  },
  {
   "cell_type": "markdown",
   "metadata": {},
   "source": [
    "11) A shop will give discount of 10% if the cost of purchased quantity is more than 1000.\n",
    "Ask user for quantity\n",
    "Suppose, one unit will cost 100.\n",
    "Judge and print total cost for user."
   ]
  },
  {
   "cell_type": "code",
   "execution_count": 72,
   "metadata": {},
   "outputs": [
    {
     "name": "stdout",
     "output_type": "stream",
     "text": [
      "Enter the quantity:  1200\n"
     ]
    },
    {
     "name": "stdout",
     "output_type": "stream",
     "text": [
      "The total cost is: 108000.0\n"
     ]
    }
   ],
   "source": [
    "quantity = int(input(\"Enter the quantity: \"))\n",
    "unit_cost=100\n",
    "total_cost = unit_cost * quantity\n",
    "if(total_cost > 1000):\n",
    "    discount = total_cost * 0.10\n",
    "    total_cost -= discount\n",
    "print(\"The total cost is:\", total_cost)"
   ]
  },
  {
   "cell_type": "markdown",
   "metadata": {},
   "source": [
    "12) A school has following rules for grading system:\n",
    "\n",
    "a. Below 25 - F\n",
    "\n",
    "b. 25 to 45 - E\n",
    "\n",
    "c. 45 to 50 - D\n",
    "\n",
    "d. 50 to 60 - C\n",
    "\n",
    "e. 60 to 80 - B\n",
    "\n",
    "f. Above 80 - A\n",
    "\n",
    "Ask user to enter marks and print the corresponding grade."
   ]
  },
  {
   "cell_type": "code",
   "execution_count": 73,
   "metadata": {},
   "outputs": [
    {
     "name": "stdout",
     "output_type": "stream",
     "text": [
      "Enter your marks:  89\n"
     ]
    },
    {
     "name": "stdout",
     "output_type": "stream",
     "text": [
      "Your grade is: A\n"
     ]
    }
   ],
   "source": [
    "marks = float(input(\"Enter your marks: \"))\n",
    "if(marks < 25):\n",
    "    grade = \"F\"\n",
    "elif(marks >= 25 and marks < 45):\n",
    "    grade = \"E\"\n",
    "elif(marks >= 45 and marks < 50):\n",
    "    grade = \"D\"\n",
    "elif(marks >= 50 and marks < 60):\n",
    "    grade = \"C\"\n",
    "elif(marks >= 60 and marks <= 80):\n",
    "    grade = \"B\"\n",
    "elif(marks > 80):\n",
    "    grade = \"A\"\n",
    "else:\n",
    "    grade = \"Invalid\"\n",
    "print(\"Your grade is:\", grade)"
   ]
  },
  {
   "cell_type": "markdown",
   "metadata": {},
   "source": [
    "14)A student will not be allowed to sit in exam if his/her attendence is less than 75%.\n",
    "\n",
    "Take following input from user\n",
    "\n",
    "- Number of classes held\n",
    "\n",
    "- Number of classes attended.\n",
    "\n",
    "And print\n",
    "\n",
    "- percentage of class attended\n",
    "\n",
    "- Is student is allowed to sit in exam or not.\n"
   ]
  },
  {
   "cell_type": "code",
   "execution_count": 79,
   "metadata": {},
   "outputs": [
    {
     "name": "stdout",
     "output_type": "stream",
     "text": [
      "Total No of Classes: 16\n",
      "Total No of Attented Classes: 12\n"
     ]
    },
    {
     "name": "stdout",
     "output_type": "stream",
     "text": [
      "Percentage: 75.0\n",
      "You are allowed to sit in exam\n"
     ]
    }
   ],
   "source": [
    "t_classes=int(input(\"Total No of Classes:\"))\n",
    "attended=int(input(\"Total No of Attented Classes:\"))\n",
    "perc=(attended/t_classes)*100\n",
    "print(\"Percentage:\",perc)\n",
    "if(perc>=75):\n",
    "    print(\"You are allowed to sit in exam\")\n",
    "else:\n",
    "    print(\"You are not allowed to sit in exam\")"
   ]
  },
  {
   "cell_type": "markdown",
   "metadata": {},
   "source": [
    "15) Modify the above question to allow student to sit if he/she has medical cause. Ask user if he/she has medical cause or not ( 'Y' or 'N' ) and print accordingly."
   ]
  },
  {
   "cell_type": "code",
   "execution_count": 80,
   "metadata": {},
   "outputs": [
    {
     "name": "stdout",
     "output_type": "stream",
     "text": [
      "Total No of Classes: 16\n",
      "Total No of Attented Classes: 9\n"
     ]
    },
    {
     "name": "stdout",
     "output_type": "stream",
     "text": [
      "Percentage: 56.25\n"
     ]
    },
    {
     "name": "stdout",
     "output_type": "stream",
     "text": [
      "Do you have a medical cause? (Y/N):  Y\n"
     ]
    },
    {
     "name": "stdout",
     "output_type": "stream",
     "text": [
      "Student is allowed to sit in the exam due to medical cause.\n"
     ]
    }
   ],
   "source": [
    "t_classes=int(input(\"Total No of Classes:\"))\n",
    "attended=int(input(\"Total No of Attented Classes:\"))\n",
    "perc=(attended/t_classes)*100\n",
    "print(\"Percentage:\",perc)\n",
    "medical_cause = input(\"Do you have a medical cause? (Y/N): \")\n",
    "if(medical_cause == 'Y'):\n",
    "    print(\"Student is allowed to sit in the exam due to medical cause.\")\n",
    "elif(perc >= 75):\n",
    "    print(\"Student is allowed to sit in the exam.\")\n",
    "else:\n",
    "    print(\"Student is not allowed to sit in the exam.\")"
   ]
  },
  {
   "cell_type": "markdown",
   "metadata": {},
   "source": [
    "16) Write a program to check if a year is leap year or not.\n",
    "\n",
    "If a year is divisible by 4 then it is leap year but if the year is century year like 2000, 1900, 2100 then it must be divisible by 400."
   ]
  },
  {
   "cell_type": "code",
   "execution_count": 82,
   "metadata": {},
   "outputs": [
    {
     "name": "stdout",
     "output_type": "stream",
     "text": [
      "Enter a year:  1996\n"
     ]
    },
    {
     "name": "stdout",
     "output_type": "stream",
     "text": [
      "1996 is a leap year.\n"
     ]
    }
   ],
   "source": [
    "year = int(input(\"Enter a year: \"))\n",
    "if (year % 4 == 0 and year % 100 != 0) or (year % 400 == 0):\n",
    "    print(year, \"is a leap year.\")\n",
    "else:\n",
    "    print(year, \"is not a leap year.\")"
   ]
  },
  {
   "cell_type": "markdown",
   "metadata": {},
   "source": [
    "17) Ask user to enter age, gender ( M or F ), marital status ( Y or N ) and then using following rules print their place of service.\n",
    "\n",
    "if employee is female, then she will work only in urban areas.\n",
    "\n",
    "if employee is a male and age is in between 20 to 40 then he may work in anywhere\n",
    "\n",
    "if employee is male and age is in between 40 t0 60 then he will work in urban areas only.\n",
    "\n",
    "And any other input of age should print \"ERROR\""
   ]
  },
  {
   "cell_type": "code",
   "execution_count": 83,
   "metadata": {},
   "outputs": [
    {
     "name": "stdout",
     "output_type": "stream",
     "text": [
      "Enter your age:  24\n",
      "Enter your gender (M/F):  F\n",
      "Enter your marital status (Y/N):  N\n"
     ]
    },
    {
     "name": "stdout",
     "output_type": "stream",
     "text": [
      "You will work in urban areas.\n"
     ]
    }
   ],
   "source": [
    "age = int(input(\"Enter your age: \"))\n",
    "gender = input(\"Enter your gender (M/F): \")\n",
    "marital_status = input(\"Enter your marital status (Y/N): \")\n",
    "if(gender == 'F'):\n",
    "    print(\"You will work in urban areas.\")\n",
    "elif(gender == 'M'):\n",
    "    if(20 <= age <= 40):\n",
    "        print(\"You may work anywhere.\")\n",
    "    elif(40 <= age <= 60):\n",
    "        print(\"You will work in urban areas only.\")\n",
    "else:\n",
    "    print(\"ERROR: Invalid age for male employee.\")"
   ]
  },
  {
   "cell_type": "markdown",
   "metadata": {},
   "source": [
    "6) Write a program to calculate the electricity bill (accept number of unit from user) according to the following criteria :\n",
    "     Unit                                                     Price  \n",
    "uptp 100 units                                             no charge\n",
    "Next 200 units                                              Rs 5 per unit\n",
    "After 200 units                                             Rs 10 per unit\n",
    "(For example if input unit is 350 than total bill amount is Rs.3500\n",
    "(For example if input unit is 97 than total bill amount is Rs.0\n",
    "(For example if input unit is 150 than total bill amount is Rs.750"
   ]
  },
  {
   "cell_type": "code",
   "execution_count": 95,
   "metadata": {},
   "outputs": [
    {
     "name": "stdout",
     "output_type": "stream",
     "text": [
      "Enter number of units consumed:  350\n"
     ]
    },
    {
     "name": "stdout",
     "output_type": "stream",
     "text": [
      "For 350 units, the total bill amount is Rs. 3500\n"
     ]
    }
   ],
   "source": [
    "units = int(input(\"Enter number of units consumed: \"))\n",
    "total_bill = 0\n",
    "if units <= 100:\n",
    "    total_bill = 0 \n",
    "elif units <= 200:\n",
    "    total_bill = units* 5 \n",
    "else:\n",
    "    total_bill = units* 10 \n",
    "print(f\"For {units} units, the total bill amount is Rs. {total_bill}\")"
   ]
  },
  {
   "cell_type": "markdown",
   "metadata": {},
   "source": [
    "13) Take input of age of 3 people by user and determine oldest and youngest among them."
   ]
  },
  {
   "cell_type": "code",
   "execution_count": 84,
   "metadata": {},
   "outputs": [
    {
     "name": "stdout",
     "output_type": "stream",
     "text": [
      "Enter age of person 1:  18\n",
      "Enter age of person 2:  19\n",
      "Enter age of person 3:  20\n"
     ]
    },
    {
     "name": "stdout",
     "output_type": "stream",
     "text": [
      "Oldest person's age: 20\n",
      "Youngest person's age: 18\n"
     ]
    }
   ],
   "source": [
    "age1 = int(input(\"Enter age of person 1: \"))\n",
    "age2 = int(input(\"Enter age of person 2: \"))\n",
    "age3 = int(input(\"Enter age of person 3: \"))\n",
    "oldest = age1\n",
    "youngest = age1\n",
    "if age2 > oldest:\n",
    "    oldest = age2\n",
    "if age3 > oldest:\n",
    "    oldest = age3\n",
    "if age2 < youngest:\n",
    "    youngest = age2\n",
    "if age3 < youngest:\n",
    "    youngest = age3\n",
    "print(\"Oldest person's age:\", oldest)\n",
    "print(\"Youngest person's age:\", youngest)"
   ]
  }
 ],
 "metadata": {
  "kernelspec": {
   "display_name": "base",
   "language": "python",
   "name": "python3"
  },
  "language_info": {
   "codemirror_mode": {
    "name": "ipython",
    "version": 3
   },
   "file_extension": ".py",
   "mimetype": "text/x-python",
   "name": "python",
   "nbconvert_exporter": "python",
   "pygments_lexer": "ipython3",
   "version": "3.12.4"
  }
 },
 "nbformat": 4,
 "nbformat_minor": 4
}
