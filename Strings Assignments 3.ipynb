{
 "cells": [
  {
   "cell_type": "markdown",
   "id": "8a414702-ee0f-4c44-9e43-78cb5530ff96",
   "metadata": {},
   "source": [
    "###1. Write a program that accepts a string from user. Your program should count and display number of vowels in that string. "
   ]
  },
  {
   "cell_type": "code",
   "execution_count": 1,
   "id": "85d8323d-f24a-4507-98d0-b0f3cef3091d",
   "metadata": {},
   "outputs": [
    {
     "name": "stdout",
     "output_type": "stream",
     "text": [
      "\n",
      "0\n"
     ]
    }
   ],
   "source": [
    "danish = str(input(\"Enter any string type: \"))\n",
    "vowels = \"aeiouAEIOU\"\n",
    "count = sum(danish.count(vowel) for vowel in vowels)\n",
    "print(danish)\n",
    "print(count)\n"
   ]
  },
  {
   "cell_type": "markdown",
   "id": "7b35c9c6-e7d4-4e53-9689-13fec48aefe9",
   "metadata": {},
   "source": [
    "###2. Write a program that reads a string from keyboard and display:\n",
    "* The number of uppercase letters in the string\n",
    "* The number of lowercase letters in the string\n",
    "* The number of digits in the string\n",
    "* The number of whitespace characters in the string "
   ]
  },
  {
   "cell_type": "code",
   "execution_count": 3,
   "id": "2bc03c52-4926-478e-8b00-a2de6367cc4a",
   "metadata": {},
   "outputs": [
    {
     "name": "stdout",
     "output_type": "stream",
     "text": [
      "Number of lowercase characters: 6\n",
      "Number of uppercase characters: 0\n",
      "Number of digits: 3\n",
      "Number of whitespace characters: 2\n"
     ]
    }
   ],
   "source": [
    "def n_lower_chars(string):\n",
    "    return sum(map(str.islower, string))\n",
    "\n",
    "def n_upper_chars(string):\n",
    "    return sum(map(str.isupper, string))\n",
    "\n",
    "def n_digits(string):\n",
    "    return sum(map(str.isdigit, string))\n",
    "\n",
    "def n_ws_chars(string):\n",
    "    return sum(map(str.isspace, string))\n",
    "print(\"Number of lowercase characters:\", n_lower_chars(\"danish\"))\n",
    "print(\"Number of uppercase characters:\", n_upper_chars(\"danish\"))\n",
    "print(\"Number of digits:\", n_digits(\"danish123\"))\n",
    "print(\"Number of whitespace characters:\", n_ws_chars(\"danish mansoor 123\"))"
   ]
  },
  {
   "cell_type": "markdown",
   "id": "12499bca-b43f-4cf4-9584-8204a64d514d",
   "metadata": {},
   "source": [
    "###3. Write a Python program that accepts a string from user. Your program should create and display a\n",
    "new string where the first and last characters have been exchanged. \n",
    "For example if the user enters the string 'HELLO' then new string would be 'OELLH'"
   ]
  },
  {
   "cell_type": "code",
   "execution_count": 5,
   "id": "a438c113-2f3b-417a-bc33-88d1b4159623",
   "metadata": {},
   "outputs": [
    {
     "name": "stdout",
     "output_type": "stream",
     "text": [
      "New string: \n"
     ]
    }
   ],
   "source": [
    "user_string = input(\"Enter a string: \")\n",
    "\n",
    "if len(user_string) > 1:\n",
    "    new_string = user_string[-1] + user_string[1:-1] + user_string[0]\n",
    "else:\n",
    "    new_string = user_string\n",
    "print(\"New string:\", new_string)\n"
   ]
  },
  {
   "cell_type": "markdown",
   "id": "c5f48c59-7c11-4727-90f5-c541b743f3e2",
   "metadata": {},
   "source": [
    "###4. Write a Python program that accepts a string from user. Your program should create a new string in\n",
    "reverse of first string and display it.\n",
    "For example if the user enters the string 'EXAM' then new string would be 'MAXE' "
   ]
  },
  {
   "cell_type": "code",
   "execution_count": 6,
   "id": "f67d565c-45ae-4635-a938-6bebaf101f02",
   "metadata": {},
   "outputs": [
    {
     "name": "stdout",
     "output_type": "stream",
     "text": [
      "Reversed string: \n"
     ]
    }
   ],
   "source": [
    "user_input = input(\"Enter a string: \")\n",
    "reversed_string = user_input[::-1]\n",
    "print(\"Reversed string:\", reversed_string)"
   ]
  },
  {
   "cell_type": "markdown",
   "id": "21d8c882-be91-44f2-9e43-b79875968bed",
   "metadata": {},
   "source": [
    "###5. Write a Python program that accepts a string from user. Your program should create a new string by\n",
    "shifting one position to left.\n",
    "For example if the user enters the string 'examination 2021' then new string would be 'xamination\n",
    "2021e' "
   ]
  },
  {
   "cell_type": "code",
   "execution_count": 7,
   "id": "5efe1942-83cb-44dc-9349-9cafe205a748",
   "metadata": {},
   "outputs": [
    {
     "name": "stdout",
     "output_type": "stream",
     "text": [
      "Shifted string: \n"
     ]
    }
   ],
   "source": [
    "user_input = input(\"Enter a string: \")\n",
    "if len(user_input) > 1:\n",
    "    new_string = user_input[1:] + user_input[0]\n",
    "print(\"Shifted string:\", new_string)"
   ]
  },
  {
   "cell_type": "markdown",
   "id": "34cc88bd-7298-4dd1-af7a-626a8996347b",
   "metadata": {},
   "source": [
    "###6. Write a program that asks the user to input his name and print its initials. Assuming that the user\n",
    "always types first name, middle name and last name and does not include any unnecessary spaces.\n",
    "For example, if the user enters Ajay Kumar Garg the program should display A. K. G.\n",
    "Note:Don't use split() method "
   ]
  },
  {
   "cell_type": "code",
   "execution_count": 9,
   "id": "67778fbf-6864-48aa-9e53-dbdbcda129bb",
   "metadata": {},
   "outputs": [
    {
     "name": "stdout",
     "output_type": "stream",
     "text": [
      "Initials: \n"
     ]
    }
   ],
   "source": [
    "\n",
    "full_name = input(\"Enter your full name (First Middle Last): \")\n",
    "\n",
    "initials = \"\"\n",
    "for i in range(len(full_name)):\n",
    "\n",
    "    if i == 0 or full_name[i - 1] == ' ':\n",
    "        initials += full_name[i].upper() + \". \"\n",
    "print(\"Initials:\", initials.strip())\n"
   ]
  },
  {
   "cell_type": "markdown",
   "id": "87dfecca-ea9b-42b7-ae47-dd34c97986dc",
   "metadata": {},
   "source": [
    "###7. A palindrome is a string that reads the same backward as forward. For example, the words dad,\n",
    "madam and radar are all palindromes. Write a programs that determines whether the string is a\n",
    "palindrome.\n",
    "Note: do not use reverse() method "
   ]
  },
  {
   "cell_type": "code",
   "execution_count": 35,
   "id": "b65833d9-a98b-441c-adda-55bed97e7116",
   "metadata": {},
   "outputs": [
    {
     "name": "stdout",
     "output_type": "stream",
     "text": [
      "Enter a string:  dad\n"
     ]
    },
    {
     "name": "stdout",
     "output_type": "stream",
     "text": [
      "The string is a palindrome.\n"
     ]
    }
   ],
   "source": [
    "user_input = input(\"Enter a string: \")\n",
    "\n",
    "start = 0\n",
    "end = len(user_input) - 1\n",
    "\n",
    "is_palindrome = True\n",
    "\n",
    "while start < end:\n",
    "    if user_input[start] != user_input[end]:\n",
    "        is_palindrome = False\n",
    "        break\n",
    "    start += 1\n",
    "    end -= 1\n",
    "\n",
    "if is_palindrome:\n",
    "    print(\"The string is a palindrome.\")\n",
    "else:\n",
    "    print(\"The string is not a palindrome.\")"
   ]
  },
  {
   "cell_type": "markdown",
   "id": "43eb764a-5f18-49f5-ba33-b53fe2f475e3",
   "metadata": {},
   "source": [
    "###8. Write a program that display following output:\n",
    "SHIFT\n",
    "HIFTS\n",
    "IFTSH\n",
    "FTSHI\n",
    "TSHIF\n",
    "SHIFT "
   ]
  },
  {
   "cell_type": "code",
   "execution_count": 45,
   "id": "f77a6a55-a782-4ff4-a562-f1b52a242be3",
   "metadata": {},
   "outputs": [
    {
     "name": "stdout",
     "output_type": "stream",
     "text": [
      " SHIFT\n"
     ]
    },
    {
     "name": "stdout",
     "output_type": "stream",
     "text": [
      "SHIFT\n",
      "HIFTS\n",
      "IFTSH\n",
      "FTSHI\n",
      "TSHIF\n"
     ]
    }
   ],
   "source": [
    "string = str(input(\"\"))\n",
    "num_lines = len(string)\n",
    "for i in range(num_lines):\n",
    "    rotated_string = string[i:] + string[:i]\n",
    "    print(rotated_string)"
   ]
  },
  {
   "cell_type": "markdown",
   "id": "b941d666-f82a-41f2-ab6d-f92c28a3e730",
   "metadata": {},
   "source": [
    "###9. Write a program in python that accepts a string to setup a passwords. Your entered password must\n",
    "meet the following requirements:\n",
    "The password must be at least eight characters long.\n",
    "It must contain at least one uppercase letter.\n",
    "It must contain at least one lowercase letter.\n",
    "It must contain at least one numeric digit.\n",
    "Your program should should perform this validation. "
   ]
  },
  {
   "cell_type": "code",
   "execution_count": 46,
   "id": "d3c46514-1bd5-4cc0-b542-e7d9fc089082",
   "metadata": {},
   "outputs": [
    {
     "name": "stdout",
     "output_type": "stream",
     "text": [
      "Enter your password:  Gravity3211\n"
     ]
    },
    {
     "name": "stdout",
     "output_type": "stream",
     "text": [
      "Password is valid.\n"
     ]
    }
   ],
   "source": [
    "import re\n",
    "def validate_password(password):\n",
    "    if len(password) < 8:\n",
    "        return \"Password must be at least 8 characters long.\"\n",
    "    if not re.search(r'[A-Z]', password):\n",
    "        return \"Password must contain at least one uppercase letter.\"\n",
    "    if not re.search(r'[a-z]', password):\n",
    "        return \"Password must contain at least one lowercase letter.\"\n",
    "    if not re.search(r'\\d', password):\n",
    "        return \"Password must contain at least one numeric digit.\"\n",
    "    return \"Password is valid.\"\n",
    "user_password = input(\"Enter your password: \")\n",
    "result = validate_password(user_password)\n",
    "print(result)"
   ]
  }
 ],
 "metadata": {
  "kernelspec": {
   "display_name": "base",
   "language": "python",
   "name": "python3"
  },
  "language_info": {
   "codemirror_mode": {
    "name": "ipython",
    "version": 3
   },
   "file_extension": ".py",
   "mimetype": "text/x-python",
   "name": "python",
   "nbconvert_exporter": "python",
   "pygments_lexer": "ipython3",
   "version": "3.12.4"
  }
 },
 "nbformat": 4,
 "nbformat_minor": 5
}
