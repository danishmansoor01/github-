{
 "cells": [
  {
   "cell_type": "markdown",
   "id": "64ef6d9b-2f7a-40b4-87b1-071b635f1438",
   "metadata": {},
   "source": [
    "### Assignment #02 ( List, Dictionary, Loops, if-else)"
   ]
  },
  {
   "cell_type": "markdown",
   "id": "fc66a00d-85af-4951-aadc-985d203c987c",
   "metadata": {},
   "source": [
    "###Scenario 1: Grocery Shopping List\n",
    "You are creating a program to manage a grocery shopping list.\n",
    "Users should be able to add items, remove items, and display the current list."
   ]
  },
  {
   "cell_type": "code",
   "execution_count": 1,
   "id": "1f4db3b1-6d5d-43ca-9e5d-d05e51f77439",
   "metadata": {},
   "outputs": [
    {
     "name": "stdout",
     "output_type": "stream",
     "text": [
      "Enter grocery name: Mango\n",
      "Enter grocery name that already bought: Tomatoes\n"
     ]
    },
    {
     "data": {
      "text/plain": [
       "['Apples', 'Bananas', 'Carrots', 'Potatoes', 'Onions', 'Mango']"
      ]
     },
     "execution_count": 1,
     "metadata": {},
     "output_type": "execute_result"
    }
   ],
   "source": [
    "grocery_items = [\n",
    "    \"Apples\",\n",
    "    \"Bananas\",\n",
    "    \"Carrots\",\n",
    "    \"Tomatoes\",\n",
    "    \"Potatoes\",\n",
    "    \"Onions\"]\n",
    "grocery_items.append(str(input(\"Enter grocery name:\")))\n",
    "grocery_items.remove(str(input(\"Enter grocery name that already bought:\")))\n",
    "grocery_items"
   ]
  },
  {
   "cell_type": "markdown",
   "id": "e362056e-0f63-4046-96d3-500e79096af1",
   "metadata": {},
   "source": [
    "###Scenario 2: Student Grades \n",
    "You are managing student grades using a dictionary. \n",
    "You need to calculate the average grade.take atleast 5 Students grades & then calculate the average."
   ]
  },
  {
   "cell_type": "code",
   "execution_count": 1,
   "id": "dd2bfff5-c31c-4a5e-a9dd-a6027394c2db",
   "metadata": {},
   "outputs": [
    {
     "name": "stdout",
     "output_type": "stream",
     "text": [
      "86.6\n"
     ]
    }
   ],
   "source": [
    "student_grades = {\n",
    "    \"Dani\": 85,\n",
    "    \"sattar\": 92,\n",
    "    \"shakoor\": 78,\n",
    "    \"gafoor\": 88,\n",
    "    \"ilyas\": 90\n",
    "}\n",
    "def calculate_average(grades):\n",
    "    total = sum(grades)\n",
    "    count = len(grades)\n",
    "    average = total / count\n",
    "    print(average)\n",
    "grades=list(student_grades.values())\n",
    "average_grade = calculate_average(grades)"
   ]
  },
  {
   "cell_type": "markdown",
   "id": "22f99c74-0883-49d2-9486-a2dc51487a58",
   "metadata": {},
   "source": [
    "###Scenario 3: Word Frequency Counter\n",
    "You are given a list of words, and you need to count the frequency of each word.\n",
    "word_list = [\"apple\", \"banana\", \"apple\", \"orange\", \"banana\", \"grape\", \"apple\"]"
   ]
  },
  {
   "cell_type": "code",
   "execution_count": 8,
   "id": "4b70798c-84ca-45e0-9909-25b285877805",
   "metadata": {},
   "outputs": [
    {
     "name": "stdout",
     "output_type": "stream",
     "text": [
      "'apple': 3\n",
      "'banana': 2\n",
      "'orange': 1\n",
      "'grape': 1\n"
     ]
    }
   ],
   "source": [
    "word_list = [\"apple\", \"banana\", \"apple\", \"orange\", \"banana\", \"grape\", \"apple\"]\n",
    "word_count={}\n",
    "for word in word_list:\n",
    "    if word in word_count:\n",
    "        word_count[word]+=1\n",
    "    else:\n",
    "        word_count[word] = 1\n",
    "for word, count in word_count.items():\n",
    "    print(f\"'{word}': {count}\")"
   ]
  },
  {
   "cell_type": "markdown",
   "id": "4d29dde2-157d-41f0-99bb-8340d5f57563",
   "metadata": {},
   "source": [
    "###Scenario 4: Password Strength Checker\n",
    "You are creating a program to check the strength of passwords based on certain criteria.\n",
    "•\tPassword should be at least 8 characters long.\n",
    "•\tPassword should contain at least one digit.\n",
    "•\tPassword should contain at least one letter."
   ]
  },
  {
   "cell_type": "code",
   "execution_count": 1,
   "id": "7e9ff31e-7a41-4c8f-ab86-881699c2aeae",
   "metadata": {},
   "outputs": [
    {
     "name": "stdout",
     "output_type": "stream",
     "text": [
      "Enter your password:  Gravity321!\n"
     ]
    },
    {
     "name": "stdout",
     "output_type": "stream",
     "text": [
      "Password is valid.\n"
     ]
    }
   ],
   "source": [
    "import re\n",
    "def validate_password(password):\n",
    "    if len(password) < 8:\n",
    "        return \"Password must be at least 8 characters long.\"\n",
    "    if not re.search(r'[A-Z]', password):\n",
    "        return \"Password must contain at least one uppercase letter.\"\n",
    "    if not re.search(r'[a-z]', password):\n",
    "        return \"Password must contain at least one lowercase letter.\"\n",
    "    if not re.search(r'\\d', password):\n",
    "        return \"Password must contain at least one numeric digit.\"\n",
    "    return \"Password is valid.\"\n",
    "user_password = input(\"Enter your password: \")\n",
    "result = validate_password(user_password)\n",
    "print(result)"
   ]
  },
  {
   "cell_type": "markdown",
   "id": "68c3f52a-3ad7-4d6f-a5f2-45bd0b3c0a27",
   "metadata": {},
   "source": [
    "###Scenario 04: Voting System (Annual Employee Recognition Awards)\n",
    "You are developing a simple voting system for a contest. Users can vote for their Favorite option, and you need to count the votes.\n",
    "In a corporate setting, the HR department is organizing the Annual Employee Recognition Awards, where employees get the opportunity to vote for their colleagues nominated in different categories. The HR team has decided to use a simple voting system to collect and tally votes for the nominees in various award categories. The script provided will be utilized for this purpose.\n",
    "Candidates: The nominees for different award categories, such as \"Employee of the Year,\" \"Team Player of the Year,\" and \"Innovation Award,\" are represented by the list of candidates: 'Candidate A,' 'Candidate B,' and 'Candidate C.'\n",
    "Voting Process: Employees are requested to input the number of voters participating in the awards. Each voter is presented with a list of nominees, and they can vote for their preferred candidate by entering the corresponding number.\n",
    "Validation: The script ensures that the entered vote is within the valid range of candidates. If an employee enters an invalid vote, the system prompts them to choose a valid candidate.\n",
    "Recording Votes: The script records each vote for the selected candidate and prints a confirmation message indicating that the vote has been recorded."
   ]
  },
  {
   "cell_type": "code",
   "execution_count": 1,
   "id": "d57a17a6-e32b-4560-9285-4f62a0e5f4b1",
   "metadata": {},
   "outputs": [
    {
     "name": "stdout",
     "output_type": "stream",
     "text": [
      "Enter the number of voters:  2\n"
     ]
    },
    {
     "name": "stdout",
     "output_type": "stream",
     "text": [
      "\n",
      "Voter 1, it's your turn to vote.\n",
      "\n",
      "Nominees for the Awards:\n",
      "1. Candidate A\n",
      "2. Candidate B\n",
      "3. Candidate C\n"
     ]
    },
    {
     "name": "stdout",
     "output_type": "stream",
     "text": [
      "\n",
      "Enter the number corresponding to your vote (1-3):  1\n"
     ]
    },
    {
     "name": "stdout",
     "output_type": "stream",
     "text": [
      "Vote recorded for Candidate A!\n",
      "\n",
      "Voter 2, it's your turn to vote.\n",
      "\n",
      "Nominees for the Awards:\n",
      "1. Candidate A\n",
      "2. Candidate B\n",
      "3. Candidate C\n"
     ]
    },
    {
     "name": "stdout",
     "output_type": "stream",
     "text": [
      "\n",
      "Enter the number corresponding to your vote (1-3):  1\n"
     ]
    },
    {
     "name": "stdout",
     "output_type": "stream",
     "text": [
      "Vote recorded for Candidate A!\n",
      "\n",
      "Final Vote Tally:\n",
      "Candidate A: 2 vote(s)\n",
      "Candidate B: 0 vote(s)\n",
      "Candidate C: 0 vote(s)\n"
     ]
    }
   ],
   "source": [
    "candidates = ['Candidate A', 'Candidate B', 'Candidate C']\n",
    "\n",
    "vote_counts = {candidate: 0 for candidate in candidates}\n",
    "\n",
    "def cast_vote():\n",
    "    print(\"\\nNominees for the Awards:\")\n",
    "    for idx, candidate in enumerate(candidates, start=1):\n",
    "        print(f\"{idx}. {candidate}\")\n",
    "\n",
    "    while True:\n",
    "        try:\n",
    "          \n",
    "            vote = int(input(f\"\\nEnter the number corresponding to your vote (1-{len(candidates)}): \"))\n",
    "            if 1 <= vote <= len(candidates):\n",
    "                selected_candidate = candidates[vote - 1]\n",
    "                vote_counts[selected_candidate] += 1\n",
    "                print(f\"Vote recorded for {selected_candidate}!\")\n",
    "                break\n",
    "            else:\n",
    "                print(f\"Invalid vote! Please enter a number between 1 and {len(candidates)}.\")\n",
    "        except ValueError:\n",
    "            print(\"Invalid input! Please enter a number.\")\n",
    "\n",
    "def voting_process():\n",
    "    try:\n",
    "        num_voters = int(input(\"Enter the number of voters: \"))\n",
    "    except ValueError:\n",
    "        print(\"Invalid number of voters! Please enter a valid number.\")\n",
    "        return\n",
    "\n",
    "    for i in range(1, num_voters + 1):\n",
    "        print(f\"\\nVoter {i}, it's your turn to vote.\")\n",
    "        cast_vote()\n",
    "\n",
    "    print(\"\\nFinal Vote Tally:\")\n",
    "    for candidate, votes in vote_counts.items():\n",
    "        print(f\"{candidate}: {votes} vote(s)\")\n",
    "if __name__ == \"__main__\":\n",
    "    voting_process()"
   ]
  },
  {
   "cell_type": "code",
   "execution_count": null,
   "id": "056ad978-1a86-482f-a777-33ec5da7a2fe",
   "metadata": {},
   "outputs": [],
   "source": []
  }
 ],
 "metadata": {
  "kernelspec": {
   "display_name": "base",
   "language": "python",
   "name": "python3"
  },
  "language_info": {
   "codemirror_mode": {
    "name": "ipython",
    "version": 3
   },
   "file_extension": ".py",
   "mimetype": "text/x-python",
   "name": "python",
   "nbconvert_exporter": "python",
   "pygments_lexer": "ipython3",
   "version": "3.12.4"
  }
 },
 "nbformat": 4,
 "nbformat_minor": 5
}
